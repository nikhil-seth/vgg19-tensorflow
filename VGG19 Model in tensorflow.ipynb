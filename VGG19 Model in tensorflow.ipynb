{
 "cells": [
  {
   "cell_type": "markdown",
   "metadata": {},
   "source": [
    "### VGG 19 Model loading in tensorflow\n",
    "Load VGG19 Model with pretrained weights."
   ]
  },
  {
   "cell_type": "markdown",
   "metadata": {},
   "source": [
    "## Weights can be downloaded by [MatConvNet.](http://www.vlfeat.org/matconvnet/pretrained/)"
   ]
  },
  {
   "cell_type": "markdown",
   "metadata": {},
   "source": [
    "Importing Necessary libraries"
   ]
  },
  {
   "cell_type": "code",
   "execution_count": 1,
   "metadata": {},
   "outputs": [],
   "source": [
    "import scipy.io      # For loading .mat file\n",
    "import numpy as np   # for computational uses\n",
    "import tensorflow as tf   # for making model\n"
   ]
  },
  {
   "cell_type": "code",
   "execution_count": 2,
   "metadata": {},
   "outputs": [
    {
     "data": {
      "text/plain": [
       "' Here file would contain all the data of vgg19.mat'"
      ]
     },
     "execution_count": 2,
     "metadata": {},
     "output_type": "execute_result"
    }
   ],
   "source": [
    "\"\"\" Getting File Path & then using it to access weight files\"\"\"\n",
    "file=scipy.io.loadmat('./NST02/vgg19.mat')\n",
    "\"\"\" Here file would contain all the data of vgg19.mat\"\"\""
   ]
  },
  {
   "cell_type": "code",
   "execution_count": 3,
   "metadata": {},
   "outputs": [
    {
     "name": "stdout",
     "output_type": "stream",
     "text": [
      "<class 'dict'>\n",
      "dict_keys(['__header__', '__version__', '__globals__', 'layers', 'meta'])\n"
     ]
    }
   ],
   "source": [
    "# Checking the type & data of files ,we get\n",
    "print(type(file))\n",
    "print(file.keys())"
   ]
  },
  {
   "cell_type": "code",
   "execution_count": 4,
   "metadata": {},
   "outputs": [
    {
     "name": "stdout",
     "output_type": "stream",
     "text": [
      "(1, 43)\n",
      "<class 'numpy.ndarray'>\n"
     ]
    }
   ],
   "source": [
    "# Our Main data would be in layers.\n",
    "file=file['layers']\n",
    "print(file.shape)\n",
    "print(type(file))"
   ]
  },
  {
   "cell_type": "code",
   "execution_count": 5,
   "metadata": {},
   "outputs": [
    {
     "name": "stdout",
     "output_type": "stream",
     "text": [
      "(1, 1)\n"
     ]
    }
   ],
   "source": [
    "# Above cell tells that file has 43 elements\n",
    "\"\"\"Assume we want to see first element's Data\"\"\"\n",
    "print(file[0][0].shape)"
   ]
  },
  {
   "cell_type": "code",
   "execution_count": 6,
   "metadata": {},
   "outputs": [
    {
     "name": "stdout",
     "output_type": "stream",
     "text": [
      "()\n",
      "<class 'numpy.void'>\n"
     ]
    }
   ],
   "source": [
    "# As it is having again 1 element , therefore accessing it\n",
    "print(file[0][0][0][0].shape)\n",
    "print(type(file[0][0][0][0]))"
   ]
  },
  {
   "cell_type": "markdown",
   "metadata": {},
   "source": [
    "Numpy.void :Basically, these are data types where there is no pre-defined type associated\n",
    "to the variable(s) you're looking at. If you look at numpy,\n",
    "you have data types such as float, uint8, bool, string, etc.\n",
    "void is to accommodate for more generic and flexible types and are for those \n",
    "data types that don't necessary fall into any one of these pre-defined data types.\n",
    " This situation is mostly encountered when you're loading in a struct where each element\n",
    " has multiple data types associated with multiple fields.\n",
    " Each structure element could have a combination of different data types,\n",
    " and the amalgamation of all of these data types to represent an instance of\n",
    " this structure element thus leads us to numpy.void."
   ]
  },
  {
   "cell_type": "code",
   "execution_count": 7,
   "metadata": {},
   "outputs": [
    {
     "name": "stdout",
     "output_type": "stream",
     "text": [
      "['conv1_1']\n",
      "['conv']\n"
     ]
    },
    {
     "data": {
      "text/plain": [
       "' We get to know that 0th element contains name, first element contains type'"
      ]
     },
     "execution_count": 7,
     "metadata": {},
     "output_type": "execute_result"
    }
   ],
   "source": [
    "# Further Accessing Data, we get\n",
    "print(file[0][0][0][0][0])\n",
    "print(file[0][0][0][0][1])\n",
    "\"\"\" We get to know that 0th element contains name, first element contains type\"\"\""
   ]
  },
  {
   "cell_type": "code",
   "execution_count": 8,
   "metadata": {},
   "outputs": [
    {
     "name": "stdout",
     "output_type": "stream",
     "text": [
      "[[array([[[[ 0.39416704, -0.08419707, -0.03631314, ..., -0.10720515,\n",
      "          -0.03804016,  0.04690642],\n",
      "         [ 0.46418372,  0.03355668,  0.10245045, ..., -0.06945956,\n",
      "          -0.04020201,  0.04048637],\n",
      "         [ 0.34119523,  0.09563112,  0.0177449 , ..., -0.11436455,\n",
      "          -0.05099866, -0.00299793]],\n",
      "\n",
      "        [[ 0.37740308, -0.07876257, -0.04775979, ..., -0.11827433,\n",
      "          -0.19008617, -0.01889699],\n",
      "         [ 0.41810837,  0.05260524,  0.09755926, ..., -0.09385028,\n",
      "          -0.20492788, -0.0573062 ],\n",
      "         [ 0.33999205,  0.13363543,  0.02129423, ..., -0.13025227,\n",
      "          -0.16508926, -0.06969624]],\n",
      "\n",
      "        [[-0.04594866, -0.11583115, -0.14462094, ..., -0.12290562,\n",
      "          -0.35782176, -0.27979308],\n",
      "         [-0.04806903, -0.00658076, -0.02234544, ..., -0.0878844 ,\n",
      "          -0.3915486 , -0.34632796],\n",
      "         [-0.04484424,  0.06471398, -0.07631404, ..., -0.12629718,\n",
      "          -0.29905206, -0.2825364 ]]],\n",
      "\n",
      "\n",
      "       [[[ 0.2671299 , -0.07969447,  0.05988706, ..., -0.09225675,\n",
      "           0.31764674,  0.42209673],\n",
      "         [ 0.30511212,  0.05677647,  0.21688674, ..., -0.06828708,\n",
      "           0.3440761 ,  0.44033417],\n",
      "         [ 0.23215917,  0.133657  ,  0.12134422, ..., -0.1063385 ,\n",
      "           0.28406844,  0.3594997 ]],\n",
      "\n",
      "        [[ 0.09986369, -0.06240906,  0.07442063, ..., -0.02214639,\n",
      "           0.25912452,  0.423499  ],\n",
      "         [ 0.10385381,  0.08851637,  0.2392226 , ..., -0.01210995,\n",
      "           0.27064082,  0.40848857],\n",
      "         [ 0.08978214,  0.18505956,  0.15264879, ..., -0.04266965,\n",
      "           0.25779948,  0.35873157]],\n",
      "\n",
      "        [[-0.34100872, -0.13399366, -0.11510294, ..., -0.11911335,\n",
      "          -0.23109646, -0.19202407],\n",
      "         [-0.37314063, -0.00698938,  0.02153259, ..., -0.09827439,\n",
      "          -0.2535741 , -0.25541356],\n",
      "         [-0.30331427,  0.08002605, -0.03926321, ..., -0.12958746,\n",
      "          -0.19778992, -0.21510386]]],\n",
      "\n",
      "\n",
      "       [[[-0.07573577, -0.07806503, -0.03540679, ..., -0.1208065 ,\n",
      "           0.20088433,  0.09790061],\n",
      "         [-0.07646758,  0.03879711,  0.09974211, ..., -0.08732687,\n",
      "           0.2247974 ,  0.10158388],\n",
      "         [-0.07260918,  0.10084777,  0.01313597, ..., -0.12594968,\n",
      "           0.1464741 ,  0.05009392]],\n",
      "\n",
      "        [[-0.2803425 , -0.07094654, -0.0387974 , ..., -0.08843154,\n",
      "           0.18996507,  0.07766484],\n",
      "         [-0.3107071 ,  0.06031388,  0.10412455, ..., -0.06832542,\n",
      "           0.20279962,  0.05222717],\n",
      "         [-0.246675  ,  0.1414054 ,  0.02605635, ..., -0.10128672,\n",
      "           0.16340195,  0.02832468]],\n",
      "\n",
      "        [[-0.41602272, -0.11491341, -0.14672887, ..., -0.13079506,\n",
      "          -0.1379628 , -0.2658845 ],\n",
      "         [-0.46453714, -0.00576723, -0.02660675, ..., -0.10017379,\n",
      "          -0.15603794, -0.32566148],\n",
      "         [-0.33683276,  0.06601517, -0.08144748, ..., -0.13460518,\n",
      "          -0.1342358 , -0.27096185]]]], dtype=float32)\n",
      "  array([[ 0.7301776 ],\n",
      "       [ 0.06493629],\n",
      "       [ 0.03428847],\n",
      "       [ 0.8260386 ],\n",
      "       [ 0.2578029 ],\n",
      "       [ 0.54867655],\n",
      "       [-0.01243854],\n",
      "       [ 0.34789944],\n",
      "       [ 0.5510871 ],\n",
      "       [ 0.06297145],\n",
      "       [ 0.6069906 ],\n",
      "       [ 0.26703122],\n",
      "       [ 0.649414  ],\n",
      "       [ 0.17073655],\n",
      "       [ 0.4772309 ],\n",
      "       [ 0.38250586],\n",
      "       [ 0.46373144],\n",
      "       [ 0.21496128],\n",
      "       [ 0.46911287],\n",
      "       [ 0.23825859],\n",
      "       [ 0.4751922 ],\n",
      "       [ 0.70606434],\n",
      "       [ 0.27007523],\n",
      "       [ 0.6855273 ],\n",
      "       [ 0.03216552],\n",
      "       [ 0.6025288 ],\n",
      "       [ 0.3503486 ],\n",
      "       [ 0.446798  ],\n",
      "       [ 0.7732652 ],\n",
      "       [ 0.58191687],\n",
      "       [ 0.39083108],\n",
      "       [ 1.7519354 ],\n",
      "       [ 0.66117406],\n",
      "       [ 0.30213955],\n",
      "       [ 0.53059655],\n",
      "       [ 0.6773747 ],\n",
      "       [ 0.33273223],\n",
      "       [ 0.49127793],\n",
      "       [ 0.26548928],\n",
      "       [ 0.18805602],\n",
      "       [ 0.07412001],\n",
      "       [ 1.1081088 ],\n",
      "       [ 0.28224325],\n",
      "       [ 0.86755145],\n",
      "       [ 0.19422948],\n",
      "       [ 0.810332  ],\n",
      "       [ 0.36062282],\n",
      "       [ 0.5072004 ],\n",
      "       [ 0.42472315],\n",
      "       [ 0.49632648],\n",
      "       [ 0.15117475],\n",
      "       [ 0.79454446],\n",
      "       [ 0.33494323],\n",
      "       [ 0.47283995],\n",
      "       [ 0.41552398],\n",
      "       [ 0.08496041],\n",
      "       [ 0.37947032],\n",
      "       [ 0.6006739 ],\n",
      "       [ 0.47174454],\n",
      "       [ 0.8130921 ],\n",
      "       [ 0.45521152],\n",
      "       [ 1.0892007 ],\n",
      "       [ 0.47757268],\n",
      "       [ 0.4072122 ]], dtype=float32)]]\n",
      "(1, 2)\n"
     ]
    },
    {
     "data": {
      "text/plain": [
       "' 3rd element is again a numpy array having weights & biases for layer'"
      ]
     },
     "execution_count": 8,
     "metadata": {},
     "output_type": "execute_result"
    }
   ],
   "source": [
    "print(file[0][0][0][0][2])\n",
    "print(file[0][0][0][0][2].shape) # (1,2) ->  tells 2 elements , one for weight & other for Bias\n",
    "\n",
    "\"\"\" 3rd element is again a numpy array having weights & biases for layer\"\"\""
   ]
  },
  {
   "cell_type": "markdown",
   "metadata": {},
   "source": [
    "### From this we get to know that How to access weights of particular layer given Address"
   ]
  },
  {
   "cell_type": "code",
   "execution_count": 9,
   "metadata": {},
   "outputs": [],
   "source": [
    "# Creates a names dictionary having names of all layers with their no\n",
    "names={}\n",
    "for i in range(len(file[0])):\n",
    "    names[file[0][i][0][0][0][0]]=i"
   ]
  },
  {
   "cell_type": "code",
   "execution_count": 10,
   "metadata": {},
   "outputs": [],
   "source": [
    "def weight(layer_name):\n",
    "    \"\"\" Function that takes input of layername & returns Weights & bias of that particular layer.\n",
    "    \"\"\"\n",
    "    layer_no=names[layer_name]    # Getting LayerNo from dictionary\n",
    "    wb =file[0][layer_no][0][0][2]   # Accessing Layer Weights & Biases\n",
    "    w=wb[0][0]    \n",
    "    b=wb[0][1]\n",
    "    name=file[0][layer_no][0][0][0]\n",
    "    assert name==layer_name\n",
    "    return w,b"
   ]
  },
  {
   "cell_type": "code",
   "execution_count": 11,
   "metadata": {},
   "outputs": [],
   "source": [
    "def conv_relu(prev_layer,layer_no,layer_name):\n",
    "    \"\"\" Function creates a Tensorflow Conv Layer getting args as prev_layer & layer_name\"\"\"\n",
    "    w,b=weight(layer_name)  # Calling weight function to get weights & bias\n",
    "    w=tf.constant(w)        # Create Tensorflow Constant W\n",
    "    b = tf.constant(np.reshape(b, (b.size)))   # Create Tensorflow Variable b\n",
    "    l=tf.nn.conv2d(prev_layer,filter=w,strides=[1,1,1,1],padding='SAME') +b \n",
    "    return tf.nn.relu(l)"
   ]
  },
  {
   "cell_type": "code",
   "execution_count": 12,
   "metadata": {},
   "outputs": [],
   "source": [
    "def avg_pool(prev_layer):\n",
    "    return tf.nn.avg_pool(prev_layer,ksize=[1, 2, 2, 1],strides=[1, 2, 2, 1], padding='SAME')   # Average Pooling Layer of Tensorflow"
   ]
  },
  {
   "cell_type": "code",
   "execution_count": 13,
   "metadata": {},
   "outputs": [],
   "source": [
    "def model(image_height,image_width):\n",
    "    graph={}\n",
    "    graph['input']=tf.Variable(np.zeros((1, image_height, image_width,3)), dtype = 'float32')\n",
    "    graph['conv1_1']=conv_relu(graph['input'],0,'conv1_1')\n",
    "    graph['conv1_2']  = conv_relu(graph['conv1_1'], 2, 'conv1_2')\n",
    "    graph['avgpool1'] = avg_pool(graph['conv1_2'])\n",
    "    graph['conv2_1']  = conv_relu(graph['avgpool1'], 5, 'conv2_1')\n",
    "    graph['conv2_2']  = conv_relu(graph['conv2_1'], 7, 'conv2_2')\n",
    "    graph['avgpool2'] = avg_pool(graph['conv2_2'])\n",
    "    graph['conv3_1']  = conv_relu(graph['avgpool2'], 10, 'conv3_1')\n",
    "    graph['conv3_2']  = conv_relu(graph['conv3_1'], 12, 'conv3_2')\n",
    "    graph['conv3_3']  = conv_relu(graph['conv3_2'], 14, 'conv3_3')\n",
    "    graph['conv3_4']  = conv_relu(graph['conv3_3'], 16, 'conv3_4')\n",
    "    graph['avgpool3'] = avg_pool(graph['conv3_4'])\n",
    "    graph['conv4_1']  = conv_relu(graph['avgpool3'], 19, 'conv4_1')\n",
    "    graph['conv4_2']  = conv_relu(graph['conv4_1'], 21, 'conv4_2')\n",
    "    graph['conv4_3']  = conv_relu(graph['conv4_2'], 23, 'conv4_3')\n",
    "    graph['conv4_4']  = conv_relu(graph['conv4_3'], 25, 'conv4_4')\n",
    "    graph['avgpool4'] = avg_pool(graph['conv4_4'])\n",
    "    graph['conv5_1']  = conv_relu(graph['avgpool4'], 28, 'conv5_1')\n",
    "    graph['conv5_2']  = conv_relu(graph['conv5_1'], 30, 'conv5_2')\n",
    "    graph['conv5_3']  = conv_relu(graph['conv5_2'], 32, 'conv5_3')\n",
    "    graph['conv5_4']  = conv_relu(graph['conv5_3'], 34, 'conv5_4')\n",
    "    graph['avgpool5'] = avg_pool(graph['conv5_4'])\n",
    "    return graph"
   ]
  },
  {
   "cell_type": "code",
   "execution_count": 14,
   "metadata": {},
   "outputs": [],
   "source": [
    "graph=model(640,640)"
   ]
  },
  {
   "cell_type": "code",
   "execution_count": 15,
   "metadata": {},
   "outputs": [
    {
     "data": {
      "text/plain": [
       "{'input': <tf.Variable 'Variable:0' shape=(1, 640, 640, 3) dtype=float32_ref>,\n",
       " 'conv1_1': <tf.Tensor 'Relu:0' shape=(1, 640, 640, 64) dtype=float32>,\n",
       " 'conv1_2': <tf.Tensor 'Relu_1:0' shape=(1, 640, 640, 64) dtype=float32>,\n",
       " 'avgpool1': <tf.Tensor 'AvgPool:0' shape=(1, 320, 320, 64) dtype=float32>,\n",
       " 'conv2_1': <tf.Tensor 'Relu_2:0' shape=(1, 320, 320, 128) dtype=float32>,\n",
       " 'conv2_2': <tf.Tensor 'Relu_3:0' shape=(1, 320, 320, 128) dtype=float32>,\n",
       " 'avgpool2': <tf.Tensor 'AvgPool_1:0' shape=(1, 160, 160, 128) dtype=float32>,\n",
       " 'conv3_1': <tf.Tensor 'Relu_4:0' shape=(1, 160, 160, 256) dtype=float32>,\n",
       " 'conv3_2': <tf.Tensor 'Relu_5:0' shape=(1, 160, 160, 256) dtype=float32>,\n",
       " 'conv3_3': <tf.Tensor 'Relu_6:0' shape=(1, 160, 160, 256) dtype=float32>,\n",
       " 'conv3_4': <tf.Tensor 'Relu_7:0' shape=(1, 160, 160, 256) dtype=float32>,\n",
       " 'avgpool3': <tf.Tensor 'AvgPool_2:0' shape=(1, 80, 80, 256) dtype=float32>,\n",
       " 'conv4_1': <tf.Tensor 'Relu_8:0' shape=(1, 80, 80, 512) dtype=float32>,\n",
       " 'conv4_2': <tf.Tensor 'Relu_9:0' shape=(1, 80, 80, 512) dtype=float32>,\n",
       " 'conv4_3': <tf.Tensor 'Relu_10:0' shape=(1, 80, 80, 512) dtype=float32>,\n",
       " 'conv4_4': <tf.Tensor 'Relu_11:0' shape=(1, 80, 80, 512) dtype=float32>,\n",
       " 'avgpool4': <tf.Tensor 'AvgPool_3:0' shape=(1, 40, 40, 512) dtype=float32>,\n",
       " 'conv5_1': <tf.Tensor 'Relu_12:0' shape=(1, 40, 40, 512) dtype=float32>,\n",
       " 'conv5_2': <tf.Tensor 'Relu_13:0' shape=(1, 40, 40, 512) dtype=float32>,\n",
       " 'conv5_3': <tf.Tensor 'Relu_14:0' shape=(1, 40, 40, 512) dtype=float32>,\n",
       " 'conv5_4': <tf.Tensor 'Relu_15:0' shape=(1, 40, 40, 512) dtype=float32>,\n",
       " 'avgpool5': <tf.Tensor 'AvgPool_4:0' shape=(1, 20, 20, 512) dtype=float32>}"
      ]
     },
     "execution_count": 15,
     "metadata": {},
     "output_type": "execute_result"
    }
   ],
   "source": [
    "graph"
   ]
  },
  {
   "cell_type": "code",
   "execution_count": null,
   "metadata": {},
   "outputs": [],
   "source": []
  }
 ],
 "metadata": {
  "kernelspec": {
   "display_name": "Python 3",
   "language": "python",
   "name": "python3"
  },
  "language_info": {
   "codemirror_mode": {
    "name": "ipython",
    "version": 3
   },
   "file_extension": ".py",
   "mimetype": "text/x-python",
   "name": "python",
   "nbconvert_exporter": "python",
   "pygments_lexer": "ipython3",
   "version": "3.6.6"
  }
 },
 "nbformat": 4,
 "nbformat_minor": 2
}
